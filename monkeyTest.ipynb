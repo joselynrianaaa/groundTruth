{
 "cells": [
  {
   "cell_type": "markdown",
   "id": "0344ae25",
   "metadata": {},
   "source": [
    "### Importing all the libraries"
   ]
  },
  {
   "cell_type": "code",
   "execution_count": 42,
   "id": "d3da1900",
   "metadata": {},
   "outputs": [],
   "source": [
    "import os\n",
    "from keras.models import Sequential\n",
    "from keras.preprocessing.image import load_img, img_to_array\n",
    "from keras.layers import Conv2D, MaxPool2D, Flatten, Dense, Dropout\n",
    "import matplotlib.pyplot as plt"
   ]
  },
  {
   "cell_type": "markdown",
   "id": "106ca317",
   "metadata": {},
   "source": [
    "### Getting all the images from the folder; normalising & converting it to np.array()"
   ]
  },
  {
   "cell_type": "code",
   "execution_count": 60,
   "id": "c34ccd4d",
   "metadata": {},
   "outputs": [],
   "source": [
    "img_dir = './Train'\n",
    "img_paths = [os.path.join(img_dir, f) for f in os.listdir(img_dir) if f.endswith('.png')]"
   ]
  },
  {
   "cell_type": "code",
   "execution_count": 54,
   "id": "cdf0f347",
   "metadata": {},
   "outputs": [],
   "source": [
    "images = []\n",
    "for img_path in img_paths:\n",
    "    img = load_img(img_path, target_size=(32, 32))\n",
    "    img = img_to_array(img)\n",
    "    img /= 255.0\n",
    "    images.append(img)"
   ]
  },
  {
   "cell_type": "code",
   "execution_count": 55,
   "id": "82593664",
   "metadata": {},
   "outputs": [],
   "source": [
    "images = np.array(images)\n",
    "labels = np.array([1 for x in range(len(images))])"
   ]
  },
  {
   "cell_type": "markdown",
   "id": "39e8a7bd",
   "metadata": {},
   "source": [
    "### The DL stuff"
   ]
  },
  {
   "cell_type": "code",
   "execution_count": 56,
   "id": "429ade97",
   "metadata": {},
   "outputs": [],
   "source": [
    "from sklearn.model_selection import train_test_split\n",
    "train_images, val_images, train_labels, val_labels = train_test_split(images, labels, test_size=0.2, random_state=42)"
   ]
  },
  {
   "cell_type": "code",
   "execution_count": 57,
   "id": "639b1494",
   "metadata": {},
   "outputs": [],
   "source": [
    "model = Sequential()\n",
    "model.add(Conv2D(32, (3, 3), activation='relu', input_shape=(32, 32, 3)))\n",
    "model.add(MaxPool2D((2, 2)))\n",
    "model.add(Flatten())\n",
    "model.add(Dense(64, activation='relu'))\n",
    "model.add(Dropout(0.2))\n",
    "model.add(Dense(1, activation='sigmoid'))\n",
    "\n",
    "model.compile(optimizer='adam', loss='binary_crossentropy', metrics=['accuracy'])"
   ]
  },
  {
   "cell_type": "code",
   "execution_count": 58,
   "id": "f8ee0566",
   "metadata": {},
   "outputs": [
    {
     "name": "stdout",
     "output_type": "stream",
     "text": [
      "Epoch 1/100\n",
      "1/1 [==============================] - 1s 677ms/step - loss: 0.9254 - accuracy: 0.0000e+00 - val_loss: 0.2053 - val_accuracy: 1.0000\n",
      "Epoch 2/100\n",
      "1/1 [==============================] - 0s 54ms/step - loss: 0.1238 - accuracy: 1.0000 - val_loss: 0.0916 - val_accuracy: 1.0000\n",
      "Epoch 3/100\n",
      "1/1 [==============================] - 0s 71ms/step - loss: 0.0428 - accuracy: 1.0000 - val_loss: 0.0516 - val_accuracy: 1.0000\n",
      "Epoch 4/100\n",
      "1/1 [==============================] - 0s 74ms/step - loss: 0.0172 - accuracy: 1.0000 - val_loss: 0.0324 - val_accuracy: 1.0000\n",
      "Epoch 5/100\n",
      "1/1 [==============================] - 0s 50ms/step - loss: 0.0136 - accuracy: 1.0000 - val_loss: 0.0213 - val_accuracy: 1.0000\n",
      "Epoch 6/100\n",
      "1/1 [==============================] - 0s 52ms/step - loss: 0.0070 - accuracy: 1.0000 - val_loss: 0.0144 - val_accuracy: 1.0000\n",
      "Epoch 7/100\n",
      "1/1 [==============================] - 0s 35ms/step - loss: 0.0046 - accuracy: 1.0000 - val_loss: 0.0100 - val_accuracy: 1.0000\n",
      "Epoch 8/100\n",
      "1/1 [==============================] - 0s 54ms/step - loss: 0.0034 - accuracy: 1.0000 - val_loss: 0.0070 - val_accuracy: 1.0000\n",
      "Epoch 9/100\n",
      "1/1 [==============================] - 0s 55ms/step - loss: 0.0027 - accuracy: 1.0000 - val_loss: 0.0050 - val_accuracy: 1.0000\n",
      "Epoch 10/100\n",
      "1/1 [==============================] - 0s 63ms/step - loss: 0.0044 - accuracy: 1.0000 - val_loss: 0.0036 - val_accuracy: 1.0000\n",
      "Epoch 11/100\n",
      "1/1 [==============================] - 0s 58ms/step - loss: 0.0012 - accuracy: 1.0000 - val_loss: 0.0026 - val_accuracy: 1.0000\n",
      "Epoch 12/100\n",
      "1/1 [==============================] - 0s 56ms/step - loss: 0.0011 - accuracy: 1.0000 - val_loss: 0.0019 - val_accuracy: 1.0000\n",
      "Epoch 13/100\n",
      "1/1 [==============================] - 0s 63ms/step - loss: 8.4431e-04 - accuracy: 1.0000 - val_loss: 0.0014 - val_accuracy: 1.0000\n",
      "Epoch 14/100\n",
      "1/1 [==============================] - 0s 50ms/step - loss: 6.9990e-04 - accuracy: 1.0000 - val_loss: 0.0011 - val_accuracy: 1.0000\n",
      "Epoch 15/100\n",
      "1/1 [==============================] - 0s 58ms/step - loss: 5.2935e-04 - accuracy: 1.0000 - val_loss: 8.2842e-04 - val_accuracy: 1.0000\n",
      "Epoch 16/100\n",
      "1/1 [==============================] - 0s 74ms/step - loss: 2.4253e-04 - accuracy: 1.0000 - val_loss: 6.3756e-04 - val_accuracy: 1.0000\n",
      "Epoch 17/100\n",
      "1/1 [==============================] - 0s 70ms/step - loss: 2.5481e-04 - accuracy: 1.0000 - val_loss: 4.9628e-04 - val_accuracy: 1.0000\n",
      "Epoch 18/100\n",
      "1/1 [==============================] - 0s 84ms/step - loss: 2.0445e-04 - accuracy: 1.0000 - val_loss: 3.9070e-04 - val_accuracy: 1.0000\n",
      "Epoch 19/100\n",
      "1/1 [==============================] - 0s 55ms/step - loss: 1.7498e-04 - accuracy: 1.0000 - val_loss: 3.1097e-04 - val_accuracy: 1.0000\n",
      "Epoch 20/100\n",
      "1/1 [==============================] - 0s 54ms/step - loss: 6.3204e-05 - accuracy: 1.0000 - val_loss: 2.5068e-04 - val_accuracy: 1.0000\n",
      "Epoch 21/100\n",
      "1/1 [==============================] - 0s 48ms/step - loss: 1.9495e-04 - accuracy: 1.0000 - val_loss: 2.0388e-04 - val_accuracy: 1.0000\n",
      "Epoch 22/100\n",
      "1/1 [==============================] - 0s 54ms/step - loss: 8.6828e-05 - accuracy: 1.0000 - val_loss: 1.6763e-04 - val_accuracy: 1.0000\n",
      "Epoch 23/100\n",
      "1/1 [==============================] - 0s 68ms/step - loss: 9.3590e-05 - accuracy: 1.0000 - val_loss: 1.3920e-04 - val_accuracy: 1.0000\n",
      "Epoch 24/100\n",
      "1/1 [==============================] - 0s 50ms/step - loss: 2.0325e-05 - accuracy: 1.0000 - val_loss: 1.1699e-04 - val_accuracy: 1.0000\n",
      "Epoch 25/100\n",
      "1/1 [==============================] - 0s 57ms/step - loss: 6.2107e-04 - accuracy: 1.0000 - val_loss: 9.8087e-05 - val_accuracy: 1.0000\n",
      "Epoch 26/100\n",
      "1/1 [==============================] - 0s 35ms/step - loss: 2.5591e-05 - accuracy: 1.0000 - val_loss: 8.3144e-05 - val_accuracy: 1.0000\n",
      "Epoch 27/100\n",
      "1/1 [==============================] - 0s 97ms/step - loss: 9.1760e-05 - accuracy: 1.0000 - val_loss: 7.1012e-05 - val_accuracy: 1.0000\n",
      "Epoch 28/100\n",
      "1/1 [==============================] - 0s 71ms/step - loss: 5.5792e-05 - accuracy: 1.0000 - val_loss: 6.1166e-05 - val_accuracy: 1.0000\n",
      "Epoch 29/100\n",
      "1/1 [==============================] - 0s 69ms/step - loss: 2.1975e-05 - accuracy: 1.0000 - val_loss: 5.3191e-05 - val_accuracy: 1.0000\n",
      "Epoch 30/100\n",
      "1/1 [==============================] - 0s 82ms/step - loss: 1.4298e-05 - accuracy: 1.0000 - val_loss: 4.6691e-05 - val_accuracy: 1.0000\n",
      "Epoch 31/100\n",
      "1/1 [==============================] - 0s 88ms/step - loss: 5.0142e-05 - accuracy: 1.0000 - val_loss: 4.1266e-05 - val_accuracy: 1.0000\n",
      "Epoch 32/100\n",
      "1/1 [==============================] - 0s 105ms/step - loss: 1.1641e-05 - accuracy: 1.0000 - val_loss: 3.6784e-05 - val_accuracy: 1.0000\n",
      "Epoch 33/100\n",
      "1/1 [==============================] - 0s 67ms/step - loss: 1.8424e-05 - accuracy: 1.0000 - val_loss: 3.3037e-05 - val_accuracy: 1.0000\n",
      "Epoch 34/100\n",
      "1/1 [==============================] - 0s 53ms/step - loss: 2.1797e-05 - accuracy: 1.0000 - val_loss: 2.9872e-05 - val_accuracy: 1.0000\n",
      "Epoch 35/100\n",
      "1/1 [==============================] - 0s 65ms/step - loss: 2.0154e-05 - accuracy: 1.0000 - val_loss: 2.7182e-05 - val_accuracy: 1.0000\n",
      "Epoch 36/100\n",
      "1/1 [==============================] - 0s 57ms/step - loss: 1.4948e-05 - accuracy: 1.0000 - val_loss: 2.4889e-05 - val_accuracy: 1.0000\n",
      "Epoch 37/100\n",
      "1/1 [==============================] - 0s 54ms/step - loss: 1.0908e-04 - accuracy: 1.0000 - val_loss: 2.2788e-05 - val_accuracy: 1.0000\n",
      "Epoch 38/100\n",
      "1/1 [==============================] - 0s 66ms/step - loss: 7.0100e-06 - accuracy: 1.0000 - val_loss: 2.0999e-05 - val_accuracy: 1.0000\n",
      "Epoch 39/100\n",
      "1/1 [==============================] - 0s 69ms/step - loss: 1.1064e-05 - accuracy: 1.0000 - val_loss: 1.9458e-05 - val_accuracy: 1.0000\n",
      "Epoch 40/100\n",
      "1/1 [==============================] - 0s 93ms/step - loss: 4.1480e-05 - accuracy: 1.0000 - val_loss: 1.8081e-05 - val_accuracy: 1.0000\n",
      "Epoch 41/100\n",
      "1/1 [==============================] - 0s 63ms/step - loss: 4.0543e-05 - accuracy: 1.0000 - val_loss: 1.6844e-05 - val_accuracy: 1.0000\n",
      "Epoch 42/100\n",
      "1/1 [==============================] - 0s 53ms/step - loss: 5.3629e-06 - accuracy: 1.0000 - val_loss: 1.5774e-05 - val_accuracy: 1.0000\n",
      "Epoch 43/100\n",
      "1/1 [==============================] - 0s 69ms/step - loss: 2.4336e-06 - accuracy: 1.0000 - val_loss: 1.4849e-05 - val_accuracy: 1.0000\n",
      "Epoch 44/100\n",
      "1/1 [==============================] - 0s 63ms/step - loss: 4.9475e-06 - accuracy: 1.0000 - val_loss: 1.4041e-05 - val_accuracy: 1.0000\n",
      "Epoch 45/100\n",
      "1/1 [==============================] - 0s 57ms/step - loss: 9.6311e-06 - accuracy: 1.0000 - val_loss: 1.3325e-05 - val_accuracy: 1.0000\n",
      "Epoch 46/100\n",
      "1/1 [==============================] - 0s 57ms/step - loss: 2.2441e-06 - accuracy: 1.0000 - val_loss: 1.2698e-05 - val_accuracy: 1.0000\n",
      "Epoch 47/100\n",
      "1/1 [==============================] - 0s 56ms/step - loss: 7.5877e-06 - accuracy: 1.0000 - val_loss: 1.2139e-05 - val_accuracy: 1.0000\n",
      "Epoch 48/100\n",
      "1/1 [==============================] - 0s 50ms/step - loss: 1.1464e-05 - accuracy: 1.0000 - val_loss: 1.1633e-05 - val_accuracy: 1.0000\n",
      "Epoch 49/100\n",
      "1/1 [==============================] - 0s 68ms/step - loss: 3.2604e-06 - accuracy: 1.0000 - val_loss: 1.1185e-05 - val_accuracy: 1.0000\n",
      "Epoch 50/100\n",
      "1/1 [==============================] - 0s 40ms/step - loss: 1.1881e-06 - accuracy: 1.0000 - val_loss: 1.0789e-05 - val_accuracy: 1.0000\n",
      "Epoch 51/100\n",
      "1/1 [==============================] - 0s 39ms/step - loss: 1.3911e-05 - accuracy: 1.0000 - val_loss: 1.0421e-05 - val_accuracy: 1.0000\n",
      "Epoch 52/100\n",
      "1/1 [==============================] - 0s 35ms/step - loss: 1.1017e-06 - accuracy: 1.0000 - val_loss: 1.0095e-05 - val_accuracy: 1.0000\n",
      "Epoch 53/100\n",
      "1/1 [==============================] - 0s 34ms/step - loss: 5.5933e-06 - accuracy: 1.0000 - val_loss: 9.7985e-06 - val_accuracy: 1.0000\n",
      "Epoch 54/100\n",
      "1/1 [==============================] - 0s 80ms/step - loss: 1.6252e-05 - accuracy: 1.0000 - val_loss: 9.5164e-06 - val_accuracy: 1.0000\n",
      "Epoch 55/100\n",
      "1/1 [==============================] - 0s 37ms/step - loss: 2.3638e-06 - accuracy: 1.0000 - val_loss: 9.2627e-06 - val_accuracy: 1.0000\n",
      "Epoch 56/100\n",
      "1/1 [==============================] - 0s 40ms/step - loss: 6.4921e-06 - accuracy: 1.0000 - val_loss: 9.0289e-06 - val_accuracy: 1.0000\n"
     ]
    },
    {
     "name": "stdout",
     "output_type": "stream",
     "text": [
      "Epoch 57/100\n",
      "1/1 [==============================] - 0s 32ms/step - loss: 1.3335e-06 - accuracy: 1.0000 - val_loss: 8.8189e-06 - val_accuracy: 1.0000\n",
      "Epoch 58/100\n",
      "1/1 [==============================] - 0s 34ms/step - loss: 2.4101e-05 - accuracy: 1.0000 - val_loss: 8.6055e-06 - val_accuracy: 1.0000\n",
      "Epoch 59/100\n",
      "1/1 [==============================] - 0s 35ms/step - loss: 2.9688e-05 - accuracy: 1.0000 - val_loss: 8.3845e-06 - val_accuracy: 1.0000\n",
      "Epoch 60/100\n",
      "1/1 [==============================] - 0s 36ms/step - loss: 3.3766e-06 - accuracy: 1.0000 - val_loss: 8.1836e-06 - val_accuracy: 1.0000\n",
      "Epoch 61/100\n",
      "1/1 [==============================] - 0s 34ms/step - loss: 1.7956e-05 - accuracy: 1.0000 - val_loss: 7.9847e-06 - val_accuracy: 1.0000\n",
      "Epoch 62/100\n",
      "1/1 [==============================] - 0s 40ms/step - loss: 7.4005e-06 - accuracy: 1.0000 - val_loss: 7.7987e-06 - val_accuracy: 1.0000\n",
      "Epoch 63/100\n",
      "1/1 [==============================] - 0s 36ms/step - loss: 4.5033e-06 - accuracy: 1.0000 - val_loss: 7.6273e-06 - val_accuracy: 1.0000\n",
      "Epoch 64/100\n",
      "1/1 [==============================] - 0s 40ms/step - loss: 5.6559e-06 - accuracy: 1.0000 - val_loss: 7.4675e-06 - val_accuracy: 1.0000\n",
      "Epoch 65/100\n",
      "1/1 [==============================] - 0s 77ms/step - loss: 1.7759e-06 - accuracy: 1.0000 - val_loss: 7.3226e-06 - val_accuracy: 1.0000\n",
      "Epoch 66/100\n",
      "1/1 [==============================] - 0s 52ms/step - loss: 2.0350e-06 - accuracy: 1.0000 - val_loss: 7.1904e-06 - val_accuracy: 1.0000\n",
      "Epoch 67/100\n",
      "1/1 [==============================] - 0s 38ms/step - loss: 1.0315e-06 - accuracy: 1.0000 - val_loss: 7.0707e-06 - val_accuracy: 1.0000\n",
      "Epoch 68/100\n",
      "1/1 [==============================] - 0s 43ms/step - loss: 8.1599e-06 - accuracy: 1.0000 - val_loss: 6.9542e-06 - val_accuracy: 1.0000\n",
      "Epoch 69/100\n",
      "1/1 [==============================] - 0s 49ms/step - loss: 4.0900e-06 - accuracy: 1.0000 - val_loss: 6.8449e-06 - val_accuracy: 1.0000\n",
      "Epoch 70/100\n",
      "1/1 [==============================] - 0s 48ms/step - loss: 6.7199e-06 - accuracy: 1.0000 - val_loss: 6.7390e-06 - val_accuracy: 1.0000\n",
      "Epoch 71/100\n",
      "1/1 [==============================] - 0s 46ms/step - loss: 1.7062e-06 - accuracy: 1.0000 - val_loss: 6.6419e-06 - val_accuracy: 1.0000\n",
      "Epoch 72/100\n",
      "1/1 [==============================] - 0s 52ms/step - loss: 7.5467e-06 - accuracy: 1.0000 - val_loss: 6.5459e-06 - val_accuracy: 1.0000\n",
      "Epoch 73/100\n",
      "1/1 [==============================] - 0s 52ms/step - loss: 4.7840e-06 - accuracy: 1.0000 - val_loss: 6.4541e-06 - val_accuracy: 1.0000\n",
      "Epoch 74/100\n",
      "1/1 [==============================] - 0s 51ms/step - loss: 2.5767e-05 - accuracy: 1.0000 - val_loss: 6.3466e-06 - val_accuracy: 1.0000\n",
      "Epoch 75/100\n",
      "1/1 [==============================] - 0s 53ms/step - loss: 5.2228e-06 - accuracy: 1.0000 - val_loss: 6.2443e-06 - val_accuracy: 1.0000\n",
      "Epoch 76/100\n",
      "1/1 [==============================] - 0s 49ms/step - loss: 8.1380e-06 - accuracy: 1.0000 - val_loss: 6.1437e-06 - val_accuracy: 1.0000\n",
      "Epoch 77/100\n",
      "1/1 [==============================] - 0s 54ms/step - loss: 1.3599e-05 - accuracy: 1.0000 - val_loss: 6.0395e-06 - val_accuracy: 1.0000\n",
      "Epoch 78/100\n",
      "1/1 [==============================] - 0s 58ms/step - loss: 2.2926e-06 - accuracy: 1.0000 - val_loss: 5.9434e-06 - val_accuracy: 1.0000\n",
      "Epoch 79/100\n",
      "1/1 [==============================] - 0s 53ms/step - loss: 3.5614e-06 - accuracy: 1.0000 - val_loss: 5.8531e-06 - val_accuracy: 1.0000\n",
      "Epoch 80/100\n",
      "1/1 [==============================] - 0s 51ms/step - loss: 1.9708e-06 - accuracy: 1.0000 - val_loss: 5.7698e-06 - val_accuracy: 1.0000\n",
      "Epoch 81/100\n",
      "1/1 [==============================] - 0s 49ms/step - loss: 2.6784e-06 - accuracy: 1.0000 - val_loss: 5.6918e-06 - val_accuracy: 1.0000\n",
      "Epoch 82/100\n",
      "1/1 [==============================] - 0s 47ms/step - loss: 2.9158e-06 - accuracy: 1.0000 - val_loss: 5.6183e-06 - val_accuracy: 1.0000\n",
      "Epoch 83/100\n",
      "1/1 [==============================] - 0s 46ms/step - loss: 2.6739e-05 - accuracy: 1.0000 - val_loss: 5.5273e-06 - val_accuracy: 1.0000\n",
      "Epoch 84/100\n",
      "1/1 [==============================] - 0s 51ms/step - loss: 8.5562e-06 - accuracy: 1.0000 - val_loss: 5.4366e-06 - val_accuracy: 1.0000\n",
      "Epoch 85/100\n",
      "1/1 [==============================] - 0s 44ms/step - loss: 1.1339e-05 - accuracy: 1.0000 - val_loss: 5.3437e-06 - val_accuracy: 1.0000\n",
      "Epoch 86/100\n",
      "1/1 [==============================] - 0s 46ms/step - loss: 9.4606e-05 - accuracy: 1.0000 - val_loss: 5.1889e-06 - val_accuracy: 1.0000\n",
      "Epoch 87/100\n",
      "1/1 [==============================] - 0s 46ms/step - loss: 1.1111e-05 - accuracy: 1.0000 - val_loss: 5.0410e-06 - val_accuracy: 1.0000\n",
      "Epoch 88/100\n",
      "1/1 [==============================] - 0s 50ms/step - loss: 9.9888e-06 - accuracy: 1.0000 - val_loss: 4.9002e-06 - val_accuracy: 1.0000\n",
      "Epoch 89/100\n",
      "1/1 [==============================] - 0s 49ms/step - loss: 7.0458e-06 - accuracy: 1.0000 - val_loss: 4.7683e-06 - val_accuracy: 1.0000\n",
      "Epoch 90/100\n",
      "1/1 [==============================] - 0s 56ms/step - loss: 3.3718e-06 - accuracy: 1.0000 - val_loss: 4.6477e-06 - val_accuracy: 1.0000\n",
      "Epoch 91/100\n",
      "1/1 [==============================] - 0s 55ms/step - loss: 5.1194e-06 - accuracy: 1.0000 - val_loss: 4.5354e-06 - val_accuracy: 1.0000\n",
      "Epoch 92/100\n",
      "1/1 [==============================] - 0s 54ms/step - loss: 6.5926e-06 - accuracy: 1.0000 - val_loss: 4.4293e-06 - val_accuracy: 1.0000\n",
      "Epoch 93/100\n",
      "1/1 [==============================] - 0s 46ms/step - loss: 6.7281e-07 - accuracy: 1.0000 - val_loss: 4.3342e-06 - val_accuracy: 1.0000\n",
      "Epoch 94/100\n",
      "1/1 [==============================] - 0s 56ms/step - loss: 4.6267e-06 - accuracy: 1.0000 - val_loss: 4.2448e-06 - val_accuracy: 1.0000\n",
      "Epoch 95/100\n",
      "1/1 [==============================] - 0s 36ms/step - loss: 2.3516e-06 - accuracy: 1.0000 - val_loss: 4.1627e-06 - val_accuracy: 1.0000\n",
      "Epoch 96/100\n",
      "1/1 [==============================] - 0s 38ms/step - loss: 3.9817e-06 - accuracy: 1.0000 - val_loss: 4.0854e-06 - val_accuracy: 1.0000\n",
      "Epoch 97/100\n",
      "1/1 [==============================] - 0s 42ms/step - loss: 6.1435e-06 - accuracy: 1.0000 - val_loss: 4.0106e-06 - val_accuracy: 1.0000\n",
      "Epoch 98/100\n",
      "1/1 [==============================] - 0s 42ms/step - loss: 2.9164e-05 - accuracy: 1.0000 - val_loss: 3.9216e-06 - val_accuracy: 1.0000\n",
      "Epoch 99/100\n",
      "1/1 [==============================] - 0s 61ms/step - loss: 1.4383e-05 - accuracy: 1.0000 - val_loss: 3.8304e-06 - val_accuracy: 1.0000\n",
      "Epoch 100/100\n",
      "1/1 [==============================] - 0s 52ms/step - loss: 2.4783e-06 - accuracy: 1.0000 - val_loss: 3.7469e-06 - val_accuracy: 1.0000\n"
     ]
    }
   ],
   "source": [
    "history = model.fit(train_images, train_labels, epochs=100, batch_size=32, validation_data=(val_images, val_labels))"
   ]
  },
  {
   "cell_type": "code",
   "execution_count": 59,
   "id": "961ba28a",
   "metadata": {},
   "outputs": [
    {
     "data": {
      "image/png": "[encoded data removed]",
      "text/plain": [
       "<Figure size 640x480 with 1 Axes>"
      ]
     },
     "metadata": {},
     "output_type": "display_data"
    }
   ],
   "source": [
    "plt.plot(history.history['accuracy'], label='Training Accuracy')\n",
    "plt.plot(history.history['val_accuracy'], label='Validation Accuracy')\n",
    "plt.plot(history.history['loss'], label='Training Loss')\n",
    "plt.legend()\n",
    "plt.show()"
   ]
  },
  {
   "cell_type": "code",
   "execution_count": 52,
   "id": "60fd008d",
   "metadata": {},
   "outputs": [
    {
     "name": "stdout",
     "output_type": "stream",
     "text": [
      "3/3 [==============================] - 0s 4ms/step - loss: 8.8803e-12 - accuracy: 1.0000\n",
      "Test accuracy: 1.0\n"
     ]
    }
   ],
   "source": [
    "test_loss, test_acc = model.evaluate(train_images, train_labels)\n",
    "print('Test accuracy:', test_acc)"
   ]
  },
  {
   "cell_type": "code",
   "execution_count": null,
   "id": "1703cb72",
   "metadata": {},
   "outputs": [],
   "source": []
  }
 ],
 "metadata": {
  "kernelspec": {
   "display_name": "Python 3 (ipykernel)",
   "language": "python",
   "name": "python3"
  },
  "language_info": {
   "codemirror_mode": {
    "name": "ipython",
    "version": 3
   },
   "file_extension": ".py",
   "mimetype": "text/x-python",
   "name": "python",
   "nbconvert_exporter": "python",
   "pygments_lexer": "ipython3",
   "version": "3.11.4"
  }
 },
 "nbformat": 4,
 "nbformat_minor": 5
}
